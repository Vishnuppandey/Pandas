{
 "cells": [
  {
   "cell_type": "code",
   "execution_count": 1,
   "id": "a155c26b",
   "metadata": {},
   "outputs": [],
   "source": [
    "import pandas as pd"
   ]
  },
  {
   "cell_type": "code",
   "execution_count": 2,
   "id": "d2b1ac68",
   "metadata": {},
   "outputs": [],
   "source": [
    "p1=[\"Vishnu\",\"Kant\",\"Pandey\"]"
   ]
  },
  {
   "cell_type": "code",
   "execution_count": 12,
   "id": "90c92faf",
   "metadata": {},
   "outputs": [
    {
     "data": {
      "text/plain": [
       "0    Vishnu\n",
       "1      Kant\n",
       "2    Pandey\n",
       "dtype: object"
      ]
     },
     "execution_count": 12,
     "metadata": {},
     "output_type": "execute_result"
    }
   ],
   "source": [
    "pd.Series(p1)"
   ]
  },
  {
   "cell_type": "code",
   "execution_count": 13,
   "id": "4dea6670",
   "metadata": {},
   "outputs": [],
   "source": [
    "ind=[1,2,3,4]"
   ]
  },
  {
   "cell_type": "code",
   "execution_count": 14,
   "id": "92a40572",
   "metadata": {},
   "outputs": [
    {
     "data": {
      "text/plain": [
       "1    100\n",
       "2     99\n",
       "3     98\n",
       "4     97\n",
       "dtype: int64"
      ]
     },
     "execution_count": 14,
     "metadata": {},
     "output_type": "execute_result"
    }
   ],
   "source": [
    "p2=[100,99,98,97]\n",
    "pd.Series(p2,ind)"
   ]
  },
  {
   "cell_type": "markdown",
   "id": "5c7e37fa",
   "metadata": {},
   "source": []
  },
  {
   "cell_type": "code",
   "execution_count": 17,
   "id": "364cbc19",
   "metadata": {},
   "outputs": [],
   "source": [
    "marks=[100,98,99,97]"
   ]
  },
  {
   "cell_type": "code",
   "execution_count": 18,
   "id": "7cfa9903",
   "metadata": {},
   "outputs": [],
   "source": [
    "subjects=[\"Math\",\"Science\",\"English\",\"Hindi\"]"
   ]
  },
  {
   "cell_type": "code",
   "execution_count": 20,
   "id": "9305cfb0",
   "metadata": {},
   "outputs": [
    {
     "data": {
      "text/plain": [
       "Math       100\n",
       "Science     98\n",
       "English     99\n",
       "Hindi       97\n",
       "Name: Marks of Vishnu, dtype: int64"
      ]
     },
     "execution_count": 20,
     "metadata": {},
     "output_type": "execute_result"
    }
   ],
   "source": [
    "pd.Series(marks,index=subjects,name=\"Marks of Vishnu\")"
   ]
  },
  {
   "cell_type": "code",
   "execution_count": 5,
   "id": "d4363d29",
   "metadata": {},
   "outputs": [],
   "source": [
    "dicti={\n",
    "    'Maths':100,\n",
    "    'Science':98,\n",
    "    'English':99,\n",
    "    'Hindi':97\n",
    "}"
   ]
  },
  {
   "cell_type": "code",
   "execution_count": 6,
   "id": "2d678b49",
   "metadata": {},
   "outputs": [],
   "source": [
    "marks_series=pd.Series(dicti,name=\"Marks of Vishnu\")"
   ]
  },
  {
   "cell_type": "code",
   "execution_count": 4,
   "id": "5f5aba4e",
   "metadata": {},
   "outputs": [
    {
     "data": {
      "text/plain": [
       "True"
      ]
     },
     "execution_count": 4,
     "metadata": {},
     "output_type": "execute_result"
    }
   ],
   "source": [
    "pd.Series([1,2,3,4,5]).is_unique"
   ]
  },
  {
   "cell_type": "code",
   "execution_count": 7,
   "id": "cd0db169",
   "metadata": {},
   "outputs": [
    {
     "data": {
      "text/plain": [
       "Index(['Maths', 'Science', 'English', 'Hindi'], dtype='object')"
      ]
     },
     "execution_count": 7,
     "metadata": {},
     "output_type": "execute_result"
    }
   ],
   "source": [
    "marks_series.index"
   ]
  },
  {
   "cell_type": "code",
   "execution_count": 8,
   "id": "6b95c6f9",
   "metadata": {},
   "outputs": [
    {
     "data": {
      "text/plain": [
       "pandas.core.indexes.base.Index"
      ]
     },
     "execution_count": 8,
     "metadata": {},
     "output_type": "execute_result"
    }
   ],
   "source": [
    "type(marks_series.index)"
   ]
  },
  {
   "cell_type": "code",
   "execution_count": null,
   "id": "c4728703",
   "metadata": {},
   "outputs": [],
   "source": []
  },
  {
   "cell_type": "markdown",
   "id": "58c626fb",
   "metadata": {},
   "source": []
  }
 ],
 "metadata": {
  "kernelspec": {
   "display_name": "Python 3 (ipykernel)",
   "language": "python",
   "name": "python3"
  },
  "language_info": {
   "codemirror_mode": {
    "name": "ipython",
    "version": 3
   },
   "file_extension": ".py",
   "mimetype": "text/x-python",
   "name": "python",
   "nbconvert_exporter": "python",
   "pygments_lexer": "ipython3",
   "version": "3.10.10"
  }
 },
 "nbformat": 4,
 "nbformat_minor": 5
}
